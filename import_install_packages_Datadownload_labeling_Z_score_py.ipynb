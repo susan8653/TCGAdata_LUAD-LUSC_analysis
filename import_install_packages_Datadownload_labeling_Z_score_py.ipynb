{
  "nbformat": 4,
  "nbformat_minor": 0,
  "metadata": {
    "colab": {
      "name": "import_install_packages/Datadownload_labeling/Z_score.py",
      "provenance": [],
      "collapsed_sections": [],
      "authorship_tag": "ABX9TyP52NhmkIs4RBa41ghfDoMM",
      "include_colab_link": true
    },
    "kernelspec": {
      "name": "python3",
      "display_name": "Python 3"
    },
    "language_info": {
      "name": "python"
    }
  },
  "cells": [
    {
      "cell_type": "markdown",
      "metadata": {
        "id": "view-in-github",
        "colab_type": "text"
      },
      "source": [
        "<a href=\"https://colab.research.google.com/github/susan8653/TCGAdata_LUAD-LUSC_analysis/blob/master/import_install_packages_Datadownload_labeling_Z_score_py.ipynb\" target=\"_parent\"><img src=\"https://colab.research.google.com/assets/colab-badge.svg\" alt=\"Open In Colab\"/></a>"
      ]
    },
    {
      "cell_type": "markdown",
      "source": [
        "#install package"
      ],
      "metadata": {
        "id": "cIrJzxH0AVQX"
      }
    },
    {
      "cell_type": "code",
      "source": [
        "!pip install selenium\n",
        "\n",
        "!apt-get update\n",
        "\n",
        "!apt install chromium-chromedriver"
      ],
      "metadata": {
        "id": "0-DE3XCW-gB9"
      },
      "execution_count": null,
      "outputs": []
    },
    {
      "cell_type": "code",
      "source": [
        "!pip install catboost"
      ],
      "metadata": {
        "id": "sTgc3XRD-kOu"
      },
      "execution_count": null,
      "outputs": []
    },
    {
      "cell_type": "markdown",
      "source": [
        "#import package"
      ],
      "metadata": {
        "id": "oqq9b1hpAbgY"
      }
    },
    {
      "cell_type": "code",
      "source": [
        "import os\n",
        "import glob\n",
        "import numpy as np\n",
        "import pandas as pd\n",
        "import tarfile\n",
        "import math\n",
        "import random\n",
        "import pandas as pd\n",
        "import numpy as np\n",
        "import seaborn as sns\n",
        "import matplotlib.pyplot as plt \n",
        "import time\n",
        "import sys\n",
        "import shutil\n",
        "\n",
        "from selenium import webdriver\n",
        "from bs4 import BeautifulSoup\n",
        "from urllib.request import urlopen\n",
        "from urllib.parse import quote_plus\n",
        "from selenium.webdriver.common.keys import Keys\n",
        "\n",
        "from sklearn.tree import DecisionTreeClassifier\n",
        "from sklearn.ensemble import RandomForestClassifier\n",
        "from lightgbm import LGBMClassifier\n",
        "#from catboost import CatBoostClassifier\n",
        "from xgboost import XGBClassifier\n",
        "from sklearn.ensemble import AdaBoostClassifier\n",
        "from sklearn.ensemble import RandomForestRegressor\n",
        "\n",
        "from sklearn.datasets import load_breast_cancer\n",
        "from sklearn.model_selection import StratifiedShuffleSplit\n",
        "from sklearn.model_selection import cross_val_score\n",
        "from sklearn.model_selection import GridSearchCV\n",
        "from sklearn.model_selection import train_test_split\n",
        "from sklearn.metrics import mean_squared_error\n",
        "from sklearn.metrics import accuracy_score\n",
        "from sklearn.preprocessing import LabelEncoder"
      ],
      "metadata": {
        "id": "PKFY2Xzy-5Jv"
      },
      "execution_count": null,
      "outputs": []
    },
    {
      "cell_type": "markdown",
      "source": [
        "#Data download_Crawling"
      ],
      "metadata": {
        "id": "AIk0RHJ8_Bx1"
      }
    },
    {
      "cell_type": "code",
      "source": [
        "def download(x):\n",
        "  for i in x:\n",
        "    url = 'http://gdac.broadinstitute.org/runs/stddata__2016_01_28/data/{0}/20160128/gdac.broadinstitute.org_{0}.Merge_rnaseqv2__illuminahiseq_rnaseqv2__unc_edu__Level_3__RSEM_genes_normalized__data.Level_3.2016012800.0.0.tar.gz'.format(i)\n",
        "    driver.get(url)\n",
        "download(genome_name)\n",
        "\n",
        "import shutil\n",
        "for i in genome_name:\n",
        "  shutil.move('/content/gdac.broadinstitute.org_{0}.Merge_rnaseqv2__illuminahiseq_rnaseqv2__unc_edu__Level_3__RSEM_genes_normalized__data.Level_3.2016012800.0.0.tar.gz'.format(i),path)"
      ],
      "metadata": {
        "id": "08Rb9OjP_D1C"
      },
      "execution_count": null,
      "outputs": []
    },
    {
      "cell_type": "code",
      "source": [
        "def Load_Dataframe(path, genome_list):\n",
        "  tar_list = os.listdir(path) #다운로드 된 경로 \n",
        "  genome_path = f'{path}../genome_data/' # 같은 위치에 파일 생성\n",
        "  df = pd.DataFrame()\n",
        "\n",
        "  for idx,f in enumerate(tar_list):\n",
        "    genome = genome_list[idx] # 암 명칭 입력 \n",
        "    # 다운받은 파일 압축해제\n",
        "    ap = tarfile.open(path + f) \n",
        "    ap.extractall(genome_path) # 압축 해제 된 파일 저장\n",
        "    ap.close \n",
        "    # 폴더 명 암 이름으로 변경\n",
        "    f_old = os.path.join(genome_path, f.split('.tar')[0]) \n",
        "    f_new = os.path.join(genome_path, f'{genome}')\n",
        "    os.rename(f_old, f_new) \n",
        "    # 암 txt 파일 불러오기\n",
        "    txt_list = os.listdir(f'{genome_path}{genome}/')\n",
        "    file = ''.join([i for i in txt_list if str(genome) in i])\n",
        "    data = pd.read_csv(f'{genome_path+genome}/{file}', sep='\\t', low_memory=False, index_col='Hybridization REF', skiprows=[1])\n",
        "    \n",
        "  return data"
      ],
      "metadata": {
        "id": "dFIJ6SvX_8X_"
      },
      "execution_count": null,
      "outputs": []
    },
    {
      "cell_type": "markdown",
      "source": [
        "#Data labeling & Loading"
      ],
      "metadata": {
        "id": "4R-ehLlP_eoJ"
      }
    },
    {
      "cell_type": "code",
      "source": [
        "def Load_Dataframe(path, genome_list):\n",
        "  df = pd.DataFrame() # 암 데이터를 합쳐서 출력 받을 최종 df\n",
        "\n",
        "  path_list= os.listdir(path) # 압축해제된 파일 경로\n",
        "  for idx, f in enumerate(path_list):\n",
        "    genome = genome_list[idx] # 불러올 암 이름 입력 받기\n",
        "    genome_file = os.listdir(f'{path}/{genome}/') # 해당 암의 폴더로 들어가기\n",
        "    txt = ''.join([i for i in genome_file if str(genome)in i]) # 필요한 파일만 출력\n",
        "    # 파일 불러오기\n",
        "    data = pd.read_csv(f'{path}/{genome}/{txt}', sep='\\t', low_memory=False, index_col='Hybridization REF', skiprows=[1])\n",
        "    data = data.transpose()\n",
        "    #데이터 라벨링\n",
        "    data['Target'] = data.index.str[13:15]\n",
        "    data['Target'] = data['Target'].replace({'01':'Tumor', '02':'Tumor', '11':'Normal', '10':'Normal'})\n",
        "    data['Target'] = genome +'_'+ data['Target']\n",
        "    df = pd.concat([df, data])\n",
        "    \n",
        "  return df"
      ],
      "metadata": {
        "id": "MO7NluqX_hXA"
      },
      "execution_count": null,
      "outputs": []
    },
    {
      "cell_type": "markdown",
      "source": [
        "#z-score"
      ],
      "metadata": {
        "id": "er_L64zJAPZ3"
      }
    },
    {
      "cell_type": "code",
      "source": [
        "def z(genome_list):\n",
        "  d1 = pd.DataFrame()  #최종 data\n",
        "\n",
        "  for idx, g in enumerate(genome_list):\n",
        "    data_select = data_Tumor[data_Tumor['Target']==idx]\n",
        "    Topdf = data_select[topDf.index]\n",
        "    #Topdf\n",
        "    \n",
        "    #Z-Score\n",
        "    z_score = (Topdf - Topdf.mean())/Topdf.std()\n",
        "    z_score = z_score.set_axis([g]*len(z_score), axis=0)\n",
        "    z_score = z_score.transpose()\n",
        "    d1 = pd.concat([d1, z_score], axis=1)\n",
        "\n",
        "  return d1"
      ],
      "metadata": {
        "id": "PVd-jBSYAHcn"
      },
      "execution_count": null,
      "outputs": []
    }
  ]
}