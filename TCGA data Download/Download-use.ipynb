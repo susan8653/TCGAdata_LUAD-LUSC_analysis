{
 "cells": [
  {
   "cell_type": "code",
   "execution_count": 55,
   "id": "aa1351af-bac0-4927-9aac-d04c5fa74046",
   "metadata": {},
   "outputs": [],
   "source": [
    "from Download import Download_data"
   ]
  },
  {
   "cell_type": "code",
   "execution_count": 56,
   "id": "3e88cc65-3399-47e7-84f7-ac399f43850a",
   "metadata": {},
   "outputs": [],
   "source": [
    "path = '/mnt/workspace/MyFiles/공모전' # 압축 해제 전 데이터 경로\n",
    "genome_path = '/mnt/workspace/MyFiles/공모전/Data' # 압축 해제한 데이터 저장\n",
    "genome_name = ['LUAD', 'LUSC'] #입력 받는 암 데이터 명"
   ]
  },
  {
   "cell_type": "code",
   "execution_count": 54,
   "id": "58736ce4-428d-4620-9eac-c0469d8f6aa6",
   "metadata": {},
   "outputs": [],
   "source": [
    "download(genome_name)"
   ]
  }
 ],
 "metadata": {
  "kernelspec": {
   "display_name": "Python 3 (ipykernel)",
   "language": "python",
   "name": "python3"
  },
  "language_info": {
   "codemirror_mode": {
    "name": "ipython",
    "version": 3
   },
   "file_extension": ".py",
   "mimetype": "text/x-python",
   "name": "python",
   "nbconvert_exporter": "python",
   "pygments_lexer": "ipython3",
   "version": "3.8.13"
  }
 },
 "nbformat": 4,
 "nbformat_minor": 5
}
